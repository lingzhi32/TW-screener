{
 "cells": [
  {
   "cell_type": "code",
   "execution_count": 10,
   "metadata": {},
   "outputs": [],
   "source": [
    "# 營業收入\n",
    "import pandas as pd\n",
    "import json\n",
    "import os\n",
    "CUR_DIR = os.getcwd()\n",
    "FIN_DIR = os.path.join(os.path.dirname(CUR_DIR), \"financial_statements\")\n",
    "# 營業收入：pstage => financial_report\n",
    "df = pd.read_parquet(f\"{FIN_DIR}/pstage/financial_report.parquet\", engine='pyarrow')\n",
    "pmart = df[['財務資料日', '證券碼','營業收入淨額', \"營業毛利率\"]]\n",
    "pmart.to_parquet(f\"{FIN_DIR}/pmart/net_revenue.parquet\")"
   ]
  },
  {
   "cell_type": "code",
   "execution_count": null,
   "metadata": {},
   "outputs": [],
   "source": []
  },
  {
   "cell_type": "code",
   "execution_count": null,
   "metadata": {},
   "outputs": [],
   "source": []
  }
 ],
 "metadata": {
  "kernelspec": {
   "display_name": ".env",
   "language": "python",
   "name": "python3"
  },
  "language_info": {
   "codemirror_mode": {
    "name": "ipython",
    "version": 3
   },
   "file_extension": ".py",
   "mimetype": "text/x-python",
   "name": "python",
   "nbconvert_exporter": "python",
   "pygments_lexer": "ipython3",
   "version": "3.11.9"
  }
 },
 "nbformat": 4,
 "nbformat_minor": 2
}
